{
 "cells": [
  {
   "cell_type": "code",
   "execution_count": 17,
   "metadata": {},
   "outputs": [],
   "source": [
    "from dowhy import CausalModel"
   ]
  },
  {
   "cell_type": "code",
   "execution_count": 18,
   "metadata": {},
   "outputs": [],
   "source": [
    "import pandas as pd \n",
    "import numpy as np \n",
    "import matplotlib.pyplot as plt"
   ]
  },
  {
   "cell_type": "markdown",
   "metadata": {},
   "source": [
    "## The Dataset\n",
    "\n",
    "The dataset used studies Government Transfers and Political Support.\n",
    "\n",
    "Source: American Economic Journal: Applied Economics, 3(3), pp.1-28.\n",
    "\n",
    "\n",
    "The dataset contains data on a government transfer program that was administered based on an income cutoff.\n",
    "\n",
    "Data is limited to households hovering around the income cutoff."
   ]
  },
  {
   "cell_type": "code",
   "execution_count": 19,
   "metadata": {},
   "outputs": [],
   "source": [
    "gov_data = pd.read_csv(\"https://raw.githubusercontent.com/NickCH-K/causaldata/main/Python/causaldata/gov_transfers/Government_Transfers_RDD_Data.csv\")"
   ]
  },
  {
   "cell_type": "code",
   "execution_count": 20,
   "metadata": {},
   "outputs": [
    {
     "data": {
      "text/html": [
       "<div>\n",
       "<style scoped>\n",
       "    .dataframe tbody tr th:only-of-type {\n",
       "        vertical-align: middle;\n",
       "    }\n",
       "\n",
       "    .dataframe tbody tr th {\n",
       "        vertical-align: top;\n",
       "    }\n",
       "\n",
       "    .dataframe thead th {\n",
       "        text-align: right;\n",
       "    }\n",
       "</style>\n",
       "<table border=\"1\" class=\"dataframe\">\n",
       "  <thead>\n",
       "    <tr style=\"text-align: right;\">\n",
       "      <th></th>\n",
       "      <th>Income_Centered</th>\n",
       "      <th>Education</th>\n",
       "      <th>Age</th>\n",
       "      <th>Participation</th>\n",
       "      <th>Support</th>\n",
       "    </tr>\n",
       "  </thead>\n",
       "  <tbody>\n",
       "    <tr>\n",
       "      <th>0</th>\n",
       "      <td>0.006571</td>\n",
       "      <td>3.5</td>\n",
       "      <td>23.666666</td>\n",
       "      <td>0</td>\n",
       "      <td>1.0</td>\n",
       "    </tr>\n",
       "    <tr>\n",
       "      <th>1</th>\n",
       "      <td>0.011075</td>\n",
       "      <td>1.5</td>\n",
       "      <td>42.000000</td>\n",
       "      <td>0</td>\n",
       "      <td>1.0</td>\n",
       "    </tr>\n",
       "    <tr>\n",
       "      <th>2</th>\n",
       "      <td>0.002424</td>\n",
       "      <td>4.0</td>\n",
       "      <td>43.000000</td>\n",
       "      <td>0</td>\n",
       "      <td>1.0</td>\n",
       "    </tr>\n",
       "    <tr>\n",
       "      <th>3</th>\n",
       "      <td>0.007650</td>\n",
       "      <td>6.0</td>\n",
       "      <td>21.000000</td>\n",
       "      <td>0</td>\n",
       "      <td>0.5</td>\n",
       "    </tr>\n",
       "    <tr>\n",
       "      <th>4</th>\n",
       "      <td>0.010001</td>\n",
       "      <td>2.0</td>\n",
       "      <td>33.000000</td>\n",
       "      <td>0</td>\n",
       "      <td>1.0</td>\n",
       "    </tr>\n",
       "  </tbody>\n",
       "</table>\n",
       "</div>"
      ],
      "text/plain": [
       "   Income_Centered  Education        Age  Participation  Support\n",
       "0         0.006571        3.5  23.666666              0      1.0\n",
       "1         0.011075        1.5  42.000000              0      1.0\n",
       "2         0.002424        4.0  43.000000              0      1.0\n",
       "3         0.007650        6.0  21.000000              0      0.5\n",
       "4         0.010001        2.0  33.000000              0      1.0"
      ]
     },
     "execution_count": 20,
     "metadata": {},
     "output_type": "execute_result"
    }
   ],
   "source": [
    "gov_data.head(5)"
   ]
  },
  {
   "cell_type": "code",
   "execution_count": 21,
   "metadata": {},
   "outputs": [
    {
     "data": {
      "text/plain": [
       "Income_Centered    float64\n",
       "Education          float64\n",
       "Age                float64\n",
       "Participation        int64\n",
       "Support            float64\n",
       "dtype: object"
      ]
     },
     "execution_count": 21,
     "metadata": {},
     "output_type": "execute_result"
    }
   ],
   "source": [
    "# checking for available data types\n",
    "gov_data.dtypes"
   ]
  },
  {
   "cell_type": "markdown",
   "metadata": {},
   "source": [
    "The dataset contains 1,948 observations with 5 variables.\n",
    "\n",
    "The variables in the dataset include:\n",
    "- Income_Centered: Measure of income, centered around the program cutoff. Negative values indicate Eligibility.\n",
    "- Education: Household average years of education among those 16 +\n",
    "- Age: Household Average Age\n",
    "- Participation: Participation in the Government Transfers Program\n",
    "- Support: Measure of Support for the Government"
   ]
  },
  {
   "cell_type": "markdown",
   "metadata": {},
   "source": [
    "##  Approach\n",
    "\n",
    "**Hypothesis being studied: Do welfare programs targeting the needy translate into more votes (broadly, support for the government) ?**\n",
    "\n",
    "The following is my identification of the target, control and treatment features:\n",
    "- TARGET (OUTCOME VARIABLE): Measure of Support for the Government.\n",
    "- CONTROL FEATURES: Income_Centered, Education, Age\n",
    "- TREATMENT FEATURES - Participation"
   ]
  },
  {
   "cell_type": "code",
   "execution_count": 22,
   "metadata": {},
   "outputs": [
    {
     "data": {
      "text/plain": [
       "Participation\n",
       "1    1127\n",
       "0     821\n",
       "Name: count, dtype: int64"
      ]
     },
     "execution_count": 22,
     "metadata": {},
     "output_type": "execute_result"
    }
   ],
   "source": [
    "# more exploratory analysis\n",
    "gov_data['Participation'].value_counts()"
   ]
  },
  {
   "cell_type": "code",
   "execution_count": 23,
   "metadata": {},
   "outputs": [
    {
     "data": {
      "text/html": [
       "<div>\n",
       "<style scoped>\n",
       "    .dataframe tbody tr th:only-of-type {\n",
       "        vertical-align: middle;\n",
       "    }\n",
       "\n",
       "    .dataframe tbody tr th {\n",
       "        vertical-align: top;\n",
       "    }\n",
       "\n",
       "    .dataframe thead th {\n",
       "        text-align: right;\n",
       "    }\n",
       "</style>\n",
       "<table border=\"1\" class=\"dataframe\">\n",
       "  <thead>\n",
       "    <tr style=\"text-align: right;\">\n",
       "      <th></th>\n",
       "      <th>Income_Centered</th>\n",
       "      <th>Education</th>\n",
       "      <th>Age</th>\n",
       "      <th>Participation</th>\n",
       "      <th>Support</th>\n",
       "    </tr>\n",
       "  </thead>\n",
       "  <tbody>\n",
       "    <tr>\n",
       "      <th>count</th>\n",
       "      <td>1948.000000</td>\n",
       "      <td>1897.000000</td>\n",
       "      <td>1948.000000</td>\n",
       "      <td>1948.000000</td>\n",
       "      <td>1948.000000</td>\n",
       "    </tr>\n",
       "    <tr>\n",
       "      <th>mean</th>\n",
       "      <td>-0.001580</td>\n",
       "      <td>4.070623</td>\n",
       "      <td>29.124287</td>\n",
       "      <td>0.578542</td>\n",
       "      <td>0.796201</td>\n",
       "    </tr>\n",
       "    <tr>\n",
       "      <th>std</th>\n",
       "      <td>0.011631</td>\n",
       "      <td>1.530783</td>\n",
       "      <td>14.428391</td>\n",
       "      <td>0.493919</td>\n",
       "      <td>0.318164</td>\n",
       "    </tr>\n",
       "    <tr>\n",
       "      <th>min</th>\n",
       "      <td>-0.019991</td>\n",
       "      <td>0.000000</td>\n",
       "      <td>6.500000</td>\n",
       "      <td>0.000000</td>\n",
       "      <td>0.000000</td>\n",
       "    </tr>\n",
       "    <tr>\n",
       "      <th>25%</th>\n",
       "      <td>-0.011714</td>\n",
       "      <td>3.000000</td>\n",
       "      <td>18.383333</td>\n",
       "      <td>0.000000</td>\n",
       "      <td>0.500000</td>\n",
       "    </tr>\n",
       "    <tr>\n",
       "      <th>50%</th>\n",
       "      <td>-0.002796</td>\n",
       "      <td>4.000000</td>\n",
       "      <td>25.666666</td>\n",
       "      <td>1.000000</td>\n",
       "      <td>1.000000</td>\n",
       "    </tr>\n",
       "    <tr>\n",
       "      <th>75%</th>\n",
       "      <td>0.008447</td>\n",
       "      <td>5.500000</td>\n",
       "      <td>36.000000</td>\n",
       "      <td>1.000000</td>\n",
       "      <td>1.000000</td>\n",
       "    </tr>\n",
       "    <tr>\n",
       "      <th>max</th>\n",
       "      <td>0.019892</td>\n",
       "      <td>6.500000</td>\n",
       "      <td>73.000000</td>\n",
       "      <td>1.000000</td>\n",
       "      <td>1.000000</td>\n",
       "    </tr>\n",
       "  </tbody>\n",
       "</table>\n",
       "</div>"
      ],
      "text/plain": [
       "       Income_Centered    Education          Age  Participation      Support\n",
       "count      1948.000000  1897.000000  1948.000000    1948.000000  1948.000000\n",
       "mean         -0.001580     4.070623    29.124287       0.578542     0.796201\n",
       "std           0.011631     1.530783    14.428391       0.493919     0.318164\n",
       "min          -0.019991     0.000000     6.500000       0.000000     0.000000\n",
       "25%          -0.011714     3.000000    18.383333       0.000000     0.500000\n",
       "50%          -0.002796     4.000000    25.666666       1.000000     1.000000\n",
       "75%           0.008447     5.500000    36.000000       1.000000     1.000000\n",
       "max           0.019892     6.500000    73.000000       1.000000     1.000000"
      ]
     },
     "execution_count": 23,
     "metadata": {},
     "output_type": "execute_result"
    }
   ],
   "source": [
    "# Summary level description of the data\n",
    "\n",
    "gov_data.describe()"
   ]
  },
  {
   "cell_type": "code",
   "execution_count": 24,
   "metadata": {},
   "outputs": [],
   "source": [
    "# Check for missing values by column\n",
    "\n",
    "missing_counts = gov_data.isna().sum()"
   ]
  },
  {
   "cell_type": "code",
   "execution_count": 25,
   "metadata": {},
   "outputs": [
    {
     "data": {
      "text/plain": [
       "Income_Centered     0\n",
       "Age                 0\n",
       "Participation       0\n",
       "Support             0\n",
       "Education          51\n",
       "dtype: int64"
      ]
     },
     "execution_count": 25,
     "metadata": {},
     "output_type": "execute_result"
    }
   ],
   "source": [
    "missing_counts.sort_values()"
   ]
  },
  {
   "cell_type": "code",
   "execution_count": 26,
   "metadata": {},
   "outputs": [
    {
     "data": {
      "image/png": "[encoded data removed]",
      "text/plain": [
       "<Figure size 1000x600 with 1 Axes>"
      ]
     },
     "metadata": {},
     "output_type": "display_data"
    }
   ],
   "source": [
    "# visualizing the distribution of the education variable\n",
    "\n",
    "plt.figure(figsize = (10, 6))\n",
    "plt.hist(gov_data['Education'].dropna(), bins = 20, color = 'green', edgecolor = \"black\")\n",
    "plt.title(\"Distribution of Household Average Years of Education (16+)\")\n",
    "plt.xlabel(\"Years of Education\")\n",
    "plt.ylabel(\"Frequency\")\n",
    "plt.show()"
   ]
  },
  {
   "cell_type": "code",
   "execution_count": 27,
   "metadata": {},
   "outputs": [],
   "source": [
    "# Imputing the missing values for Education with the median\n",
    "\n",
    "median_education = gov_data['Education'].median()\n",
    "\n",
    "gov_data['Education'] = gov_data['Education'].fillna(median_education)"
   ]
  },
  {
   "cell_type": "code",
   "execution_count": 28,
   "metadata": {},
   "outputs": [
    {
     "name": "stderr",
     "output_type": "stream",
     "text": [
      "/var/folders/z6/mhv044k52r38pf74f9w6gkjc0000gn/T/ipykernel_69621/3242225981.py:1: FutureWarning: The provided callable <function mean at 0x122e9f7e0> is currently using DataFrameGroupBy.mean. In a future version of pandas, the provided callable will be used directly. To keep current behavior pass the string \"mean\" instead.\n",
      "  gov_data.pivot_table(values = 'Support',\n"
     ]
    },
    {
     "data": {
      "text/html": [
       "<div>\n",
       "<style scoped>\n",
       "    .dataframe tbody tr th:only-of-type {\n",
       "        vertical-align: middle;\n",
       "    }\n",
       "\n",
       "    .dataframe tbody tr th {\n",
       "        vertical-align: top;\n",
       "    }\n",
       "\n",
       "    .dataframe thead tr th {\n",
       "        text-align: left;\n",
       "    }\n",
       "\n",
       "    .dataframe thead tr:last-of-type th {\n",
       "        text-align: right;\n",
       "    }\n",
       "</style>\n",
       "<table border=\"1\" class=\"dataframe\">\n",
       "  <thead>\n",
       "    <tr>\n",
       "      <th></th>\n",
       "      <th>mean</th>\n",
       "      <th>size</th>\n",
       "    </tr>\n",
       "    <tr>\n",
       "      <th></th>\n",
       "      <th>Support</th>\n",
       "      <th>Support</th>\n",
       "    </tr>\n",
       "    <tr>\n",
       "      <th>Participation</th>\n",
       "      <th></th>\n",
       "      <th></th>\n",
       "    </tr>\n",
       "  </thead>\n",
       "  <tbody>\n",
       "    <tr>\n",
       "      <th>0</th>\n",
       "      <td>0.727771</td>\n",
       "      <td>821</td>\n",
       "    </tr>\n",
       "    <tr>\n",
       "      <th>1</th>\n",
       "      <td>0.846051</td>\n",
       "      <td>1127</td>\n",
       "    </tr>\n",
       "    <tr>\n",
       "      <th>All</th>\n",
       "      <td>0.796201</td>\n",
       "      <td>1948</td>\n",
       "    </tr>\n",
       "  </tbody>\n",
       "</table>\n",
       "</div>"
      ],
      "text/plain": [
       "                   mean    size\n",
       "                Support Support\n",
       "Participation                  \n",
       "0              0.727771     821\n",
       "1              0.846051    1127\n",
       "All            0.796201    1948"
      ]
     },
     "execution_count": 28,
     "metadata": {},
     "output_type": "execute_result"
    }
   ],
   "source": [
    "gov_data.pivot_table(values = 'Support',\n",
    "                     index = 'Participation',\n",
    "                     aggfunc = [np.mean, np.size],\n",
    "                     margins = True)"
   ]
  },
  {
   "cell_type": "markdown",
   "metadata": {},
   "source": [
    "## Creating a Causal Model using dowhy"
   ]
  },
  {
   "cell_type": "code",
   "execution_count": 29,
   "metadata": {},
   "outputs": [],
   "source": [
    "model = CausalModel(\n",
    "    data = gov_data,\n",
    "    treatment = \"Participation\",\n",
    "    outcome = \"Support\",\n",
    "    common_causes = [\"Income_Centered\", \"Education\", \"Age\"]\n",
    ")"
   ]
  },
  {
   "cell_type": "markdown",
   "metadata": {},
   "source": [
    "## view_model()"
   ]
  },
  {
   "cell_type": "code",
   "execution_count": 30,
   "metadata": {},
   "outputs": [
    {
     "data": {
      "image/png": "[encoded data removed]",
      "text/plain": [
       "<Figure size 800x600 with 1 Axes>"
      ]
     },
     "metadata": {},
     "output_type": "display_data"
    }
   ],
   "source": [
    "model.view_model()"
   ]
  },
  {
   "cell_type": "markdown",
   "metadata": {},
   "source": [
    "## identify_effect()"
   ]
  },
  {
   "cell_type": "code",
   "execution_count": 21,
   "metadata": {},
   "outputs": [],
   "source": [
    "identified_estimand = model.identify_effect(proceed_when_unidentifiable = True)"
   ]
  },
  {
   "cell_type": "code",
   "execution_count": 22,
   "metadata": {},
   "outputs": [
    {
     "name": "stdout",
     "output_type": "stream",
     "text": [
      "Estimand type: EstimandType.NONPARAMETRIC_ATE\n",
      "\n",
      "### Estimand : 1\n",
      "Estimand name: backdoor\n",
      "Estimand expression:\n",
      "       d                                                  \n",
      "────────────────(E[Support|Age,Income_Centered,Education])\n",
      "d[Participation]                                          \n",
      "Estimand assumption 1, Unconfoundedness: If U→{Participation} and U→Support then P(Support|Participation,Age,Income_Centered,Education,U) = P(Support|Participation,Age,Income_Centered,Education)\n",
      "\n",
      "### Estimand : 2\n",
      "Estimand name: iv\n",
      "No such variable(s) found!\n",
      "\n",
      "### Estimand : 3\n",
      "Estimand name: frontdoor\n",
      "No such variable(s) found!\n",
      "\n"
     ]
    }
   ],
   "source": [
    "print(identified_estimand)"
   ]
  },
  {
   "cell_type": "markdown",
   "metadata": {},
   "source": [
    "## estimate_effect()"
   ]
  },
  {
   "cell_type": "code",
   "execution_count": 23,
   "metadata": {},
   "outputs": [
    {
     "name": "stdout",
     "output_type": "stream",
     "text": [
      "*** Causal Estimate ***\n",
      "\n",
      "## Identified estimand\n",
      "Estimand type: EstimandType.NONPARAMETRIC_ATE\n",
      "\n",
      "### Estimand : 1\n",
      "Estimand name: backdoor\n",
      "Estimand expression:\n",
      "       d                                                  \n",
      "────────────────(E[Support|Age,Income_Centered,Education])\n",
      "d[Participation]                                          \n",
      "Estimand assumption 1, Unconfoundedness: If U→{Participation} and U→Support then P(Support|Participation,Age,Income_Centered,Education,U) = P(Support|Participation,Age,Income_Centered,Education)\n",
      "\n",
      "## Realized estimand\n",
      "b: Support~Participation+Age+Income_Centered+Education\n",
      "Target units: ate\n",
      "\n",
      "## Estimate\n",
      "Mean value: 0.09753593429158111\n",
      "\n"
     ]
    }
   ],
   "source": [
    "# estimating target estimand using a statistical method\n",
    "\n",
    "estimate = model.estimate_effect(identified_estimand, method_name = \"backdoor.propensity_score_matching\")\n",
    "\n",
    "print(estimate)"
   ]
  },
  {
   "cell_type": "markdown",
   "metadata": {},
   "source": [
    "## Calculating causal effect on the control group with estimate_effect()"
   ]
  },
  {
   "cell_type": "code",
   "execution_count": 24,
   "metadata": {},
   "outputs": [
    {
     "name": "stdout",
     "output_type": "stream",
     "text": [
      "*** Causal Estimate ***\n",
      "\n",
      "## Identified estimand\n",
      "Estimand type: EstimandType.NONPARAMETRIC_ATE\n",
      "\n",
      "### Estimand : 1\n",
      "Estimand name: backdoor\n",
      "Estimand expression:\n",
      "       d                                                  \n",
      "────────────────(E[Support|Age,Income_Centered,Education])\n",
      "d[Participation]                                          \n",
      "Estimand assumption 1, Unconfoundedness: If U→{Participation} and U→Support then P(Support|Participation,Age,Income_Centered,Education,U) = P(Support|Participation,Age,Income_Centered,Education)\n",
      "\n",
      "## Realized estimand\n",
      "b: Support~Participation+Age+Income_Centered+Education\n",
      "Target units: atc\n",
      "\n",
      "## Estimate\n",
      "Mean value: 0.10596833130328867\n",
      "\n"
     ]
    }
   ],
   "source": [
    "# causal effect on the control group\n",
    "\n",
    "causal_estimate_att = model.estimate_effect(identified_estimand,\n",
    "                                            method_name = \"backdoor.propensity_score_matching\",\n",
    "                                            target_units = \"atc\")\n",
    "\n",
    "print(causal_estimate_att)"
   ]
  },
  {
   "cell_type": "markdown",
   "metadata": {},
   "source": [
    "## Interpretation\n",
    "\n",
    "The average treatment effect of 0.0975 means that,on average, participating in the Government's Transfers program increases the Support by 0.0975 units across the entire population, irrespective of whether they were initially in the treatment or control group. \n",
    "\n",
    "\n",
    "The ATC (Average Treatment Effect on the Control Group) of 0.105 means that, on average, the control group would experience an increase of 0.105 units in Support for the Government if they participated in the Transfers program offered by the government.\n",
    "\n"
   ]
  },
  {
   "cell_type": "markdown",
   "metadata": {},
   "source": [
    "**This happens to be in alignment with the hypothesis that welfare programs targeting the needy could translate into increased support for the government**"
   ]
  },
  {
   "cell_type": "markdown",
   "metadata": {},
   "source": []
  }
 ],
 "metadata": {
  "kernelspec": {
   "display_name": "Individual-Assignment-2",
   "language": "python",
   "name": "python3"
  },
  "language_info": {
   "codemirror_mode": {
    "name": "ipython",
    "version": 3
   },
   "file_extension": ".py",
   "mimetype": "text/x-python",
   "name": "python",
   "nbconvert_exporter": "python",
   "pygments_lexer": "ipython3",
   "version": "3.11.7"
  }
 },
 "nbformat": 4,
 "nbformat_minor": 2
}
